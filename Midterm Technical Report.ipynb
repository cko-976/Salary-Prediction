{
 "cells": [
  {
   "cell_type": "markdown",
   "metadata": {},
   "source": [
    "# Abstract\n",
    "\n",
    "A Census official would like to use a given number of factors to predict salary of more than 50K. He hires consultants who would create a model that can predict salary and that has a good accuracy score.\n",
    "\n",
    "\n",
    "# Introduction\n",
    "\n",
    "As the consultants we have data from the Census department. The dataset has categorical data so we hope to use a classification model to predict the salary given a set of features. This a binary problem, where salary is classified as either equal to or less than 50K, or classified as greater than 50K.\n",
    "\n",
    "\n",
    "### Problem\n",
    "For the given Census data can we predict whether a person will earn <=50K or >50?\n",
    "\n",
    "### Solution\n",
    "Create a classification regression that predicts salary.\n",
    "\n",
    "## Goal\n",
    "Train a classification model than performs better than 0.75 accuracy.\n",
    "\n",
    "\n",
    "# Research Questions\n",
    "- Which model has the best accuracy test score?\n",
    "- What are some of the ways we can reduce bias?\n",
    "- How do we test our model?"
   ]
  },
  {
   "cell_type": "markdown",
   "metadata": {},
   "source": [
    "## DataSet\n"
   ]
  },
  {
   "cell_type": "code",
   "execution_count": 2,
   "metadata": {},
   "outputs": [],
   "source": [
    "# import numpy, pandas, matplotlib, seaborn and sklearn\n",
    "\n",
    "import numpy as np\n",
    "import pandas as pd\n",
    "\n",
    "%matplotlib inline\n",
    "\n",
    "import matplotlib.pyplot as plt\n",
    "import seaborn; seaborn.set()\n",
    "\n",
    "from sklearn.model_selection import train_test_split\n",
    "from sklearn.preprocessing import LabelEncoder"
   ]
  },
  {
   "cell_type": "markdown",
   "metadata": {},
   "source": [
    "### Open data file\n",
    "\n",
    "This data file is a .data there we put a delimiter to open it. It also does not have a column header. \n",
    "Using information on the attributes from the source website we make a column header. "
   ]
  },
  {
   "cell_type": "code",
   "execution_count": 15,
   "metadata": {},
   "outputs": [
    {
     "data": {
      "text/html": [
       "<div>\n",
       "<style scoped>\n",
       "    .dataframe tbody tr th:only-of-type {\n",
       "        vertical-align: middle;\n",
       "    }\n",
       "\n",
       "    .dataframe tbody tr th {\n",
       "        vertical-align: top;\n",
       "    }\n",
       "\n",
       "    .dataframe thead th {\n",
       "        text-align: right;\n",
       "    }\n",
       "</style>\n",
       "<table border=\"1\" class=\"dataframe\">\n",
       "  <thead>\n",
       "    <tr style=\"text-align: right;\">\n",
       "      <th></th>\n",
       "      <th>age</th>\n",
       "      <th>workclass</th>\n",
       "      <th>fnlwgt</th>\n",
       "      <th>education</th>\n",
       "      <th>edu_num</th>\n",
       "      <th>marital_status</th>\n",
       "      <th>occupation</th>\n",
       "      <th>relationship</th>\n",
       "      <th>race</th>\n",
       "      <th>sex</th>\n",
       "      <th>capital_gain</th>\n",
       "      <th>capital_loss</th>\n",
       "      <th>hours_per_week</th>\n",
       "      <th>native_country</th>\n",
       "      <th>salary</th>\n",
       "    </tr>\n",
       "  </thead>\n",
       "  <tbody>\n",
       "    <tr>\n",
       "      <th>0</th>\n",
       "      <td>39</td>\n",
       "      <td>State-gov</td>\n",
       "      <td>77516</td>\n",
       "      <td>Bachelors</td>\n",
       "      <td>13</td>\n",
       "      <td>Never-married</td>\n",
       "      <td>Adm-clerical</td>\n",
       "      <td>Not-in-family</td>\n",
       "      <td>White</td>\n",
       "      <td>Male</td>\n",
       "      <td>2174</td>\n",
       "      <td>0</td>\n",
       "      <td>40</td>\n",
       "      <td>United-States</td>\n",
       "      <td>&lt;=50K</td>\n",
       "    </tr>\n",
       "    <tr>\n",
       "      <th>1</th>\n",
       "      <td>50</td>\n",
       "      <td>Self-emp-not-inc</td>\n",
       "      <td>83311</td>\n",
       "      <td>Bachelors</td>\n",
       "      <td>13</td>\n",
       "      <td>Married-civ-spouse</td>\n",
       "      <td>Exec-managerial</td>\n",
       "      <td>Husband</td>\n",
       "      <td>White</td>\n",
       "      <td>Male</td>\n",
       "      <td>0</td>\n",
       "      <td>0</td>\n",
       "      <td>13</td>\n",
       "      <td>United-States</td>\n",
       "      <td>&lt;=50K</td>\n",
       "    </tr>\n",
       "    <tr>\n",
       "      <th>2</th>\n",
       "      <td>38</td>\n",
       "      <td>Private</td>\n",
       "      <td>215646</td>\n",
       "      <td>HS-grad</td>\n",
       "      <td>9</td>\n",
       "      <td>Divorced</td>\n",
       "      <td>Handlers-cleaners</td>\n",
       "      <td>Not-in-family</td>\n",
       "      <td>White</td>\n",
       "      <td>Male</td>\n",
       "      <td>0</td>\n",
       "      <td>0</td>\n",
       "      <td>40</td>\n",
       "      <td>United-States</td>\n",
       "      <td>&lt;=50K</td>\n",
       "    </tr>\n",
       "    <tr>\n",
       "      <th>3</th>\n",
       "      <td>53</td>\n",
       "      <td>Private</td>\n",
       "      <td>234721</td>\n",
       "      <td>11th</td>\n",
       "      <td>7</td>\n",
       "      <td>Married-civ-spouse</td>\n",
       "      <td>Handlers-cleaners</td>\n",
       "      <td>Husband</td>\n",
       "      <td>Black</td>\n",
       "      <td>Male</td>\n",
       "      <td>0</td>\n",
       "      <td>0</td>\n",
       "      <td>40</td>\n",
       "      <td>United-States</td>\n",
       "      <td>&lt;=50K</td>\n",
       "    </tr>\n",
       "    <tr>\n",
       "      <th>4</th>\n",
       "      <td>28</td>\n",
       "      <td>Private</td>\n",
       "      <td>338409</td>\n",
       "      <td>Bachelors</td>\n",
       "      <td>13</td>\n",
       "      <td>Married-civ-spouse</td>\n",
       "      <td>Prof-specialty</td>\n",
       "      <td>Wife</td>\n",
       "      <td>Black</td>\n",
       "      <td>Female</td>\n",
       "      <td>0</td>\n",
       "      <td>0</td>\n",
       "      <td>40</td>\n",
       "      <td>Cuba</td>\n",
       "      <td>&lt;=50K</td>\n",
       "    </tr>\n",
       "  </tbody>\n",
       "</table>\n",
       "</div>"
      ],
      "text/plain": [
       "   age          workclass  fnlwgt   education  edu_num       marital_status  \\\n",
       "0   39          State-gov   77516   Bachelors       13        Never-married   \n",
       "1   50   Self-emp-not-inc   83311   Bachelors       13   Married-civ-spouse   \n",
       "2   38            Private  215646     HS-grad        9             Divorced   \n",
       "3   53            Private  234721        11th        7   Married-civ-spouse   \n",
       "4   28            Private  338409   Bachelors       13   Married-civ-spouse   \n",
       "\n",
       "           occupation    relationship    race      sex  capital_gain  \\\n",
       "0        Adm-clerical   Not-in-family   White     Male          2174   \n",
       "1     Exec-managerial         Husband   White     Male             0   \n",
       "2   Handlers-cleaners   Not-in-family   White     Male             0   \n",
       "3   Handlers-cleaners         Husband   Black     Male             0   \n",
       "4      Prof-specialty            Wife   Black   Female             0   \n",
       "\n",
       "   capital_loss  hours_per_week  native_country  salary  \n",
       "0             0              40   United-States   <=50K  \n",
       "1             0              13   United-States   <=50K  \n",
       "2             0              40   United-States   <=50K  \n",
       "3             0              40   United-States   <=50K  \n",
       "4             0              40            Cuba   <=50K  "
      ]
     },
     "execution_count": 15,
     "metadata": {},
     "output_type": "execute_result"
    }
   ],
   "source": [
    "# Open data file\n",
    "# Since it is a .data file it has a , delimiter\n",
    "# Need to add columns names as it does not have column names\n",
    "\n",
    "df=pd.read_csv(\"adult.data\", delimiter=\",\", names=['age','workclass','fnlwgt','education','edu_num','marital_status','occupation','relationship','race','sex','capital_gain','capital_loss','hours_per_week','native_country','salary'])\n",
    "            \n",
    "df.head(5)          "
   ]
  },
  {
   "cell_type": "code",
   "execution_count": 23,
   "metadata": {
    "scrolled": false
   },
   "outputs": [
    {
     "data": {
      "text/plain": [
       "(32561, 15)"
      ]
     },
     "execution_count": 23,
     "metadata": {},
     "output_type": "execute_result"
    }
   ],
   "source": [
    "df.shape"
   ]
  },
  {
   "cell_type": "code",
   "execution_count": 24,
   "metadata": {},
   "outputs": [
    {
     "data": {
      "text/plain": [
       " <=50K    24720\n",
       " >50K      7841\n",
       "Name: salary, dtype: int64"
      ]
     },
     "execution_count": 24,
     "metadata": {},
     "output_type": "execute_result"
    }
   ],
   "source": [
    "# This is the Target variable\n",
    "# Check the ratio of salary \n",
    "\n",
    "df[\"salary\"].value_counts()"
   ]
  },
  {
   "cell_type": "code",
   "execution_count": 25,
   "metadata": {},
   "outputs": [
    {
     "data": {
      "text/plain": [
       "0.7591904425539756"
      ]
     },
     "execution_count": 25,
     "metadata": {},
     "output_type": "execute_result"
    }
   ],
   "source": [
    "# Model accuracy rate\n",
    "\n",
    "24720/(24720+7841)"
   ]
  },
  {
   "cell_type": "markdown",
   "metadata": {},
   "source": [
    "#### Define the X and Y variables."
   ]
  },
  {
   "cell_type": "code",
   "execution_count": 16,
   "metadata": {},
   "outputs": [
    {
     "data": {
      "text/html": [
       "<div>\n",
       "<style scoped>\n",
       "    .dataframe tbody tr th:only-of-type {\n",
       "        vertical-align: middle;\n",
       "    }\n",
       "\n",
       "    .dataframe tbody tr th {\n",
       "        vertical-align: top;\n",
       "    }\n",
       "\n",
       "    .dataframe thead th {\n",
       "        text-align: right;\n",
       "    }\n",
       "</style>\n",
       "<table border=\"1\" class=\"dataframe\">\n",
       "  <thead>\n",
       "    <tr style=\"text-align: right;\">\n",
       "      <th></th>\n",
       "      <th>age</th>\n",
       "      <th>workclass</th>\n",
       "      <th>fnlwgt</th>\n",
       "      <th>education</th>\n",
       "      <th>edu_num</th>\n",
       "      <th>marital_status</th>\n",
       "      <th>occupation</th>\n",
       "      <th>relationship</th>\n",
       "      <th>race</th>\n",
       "      <th>sex</th>\n",
       "      <th>capital_gain</th>\n",
       "      <th>capital_loss</th>\n",
       "      <th>hours_per_week</th>\n",
       "      <th>native_country</th>\n",
       "    </tr>\n",
       "  </thead>\n",
       "  <tbody>\n",
       "    <tr>\n",
       "      <th>0</th>\n",
       "      <td>39</td>\n",
       "      <td>State-gov</td>\n",
       "      <td>77516</td>\n",
       "      <td>Bachelors</td>\n",
       "      <td>13</td>\n",
       "      <td>Never-married</td>\n",
       "      <td>Adm-clerical</td>\n",
       "      <td>Not-in-family</td>\n",
       "      <td>White</td>\n",
       "      <td>Male</td>\n",
       "      <td>2174</td>\n",
       "      <td>0</td>\n",
       "      <td>40</td>\n",
       "      <td>United-States</td>\n",
       "    </tr>\n",
       "    <tr>\n",
       "      <th>1</th>\n",
       "      <td>50</td>\n",
       "      <td>Self-emp-not-inc</td>\n",
       "      <td>83311</td>\n",
       "      <td>Bachelors</td>\n",
       "      <td>13</td>\n",
       "      <td>Married-civ-spouse</td>\n",
       "      <td>Exec-managerial</td>\n",
       "      <td>Husband</td>\n",
       "      <td>White</td>\n",
       "      <td>Male</td>\n",
       "      <td>0</td>\n",
       "      <td>0</td>\n",
       "      <td>13</td>\n",
       "      <td>United-States</td>\n",
       "    </tr>\n",
       "  </tbody>\n",
       "</table>\n",
       "</div>"
      ],
      "text/plain": [
       "   age          workclass  fnlwgt   education  edu_num       marital_status  \\\n",
       "0   39          State-gov   77516   Bachelors       13        Never-married   \n",
       "1   50   Self-emp-not-inc   83311   Bachelors       13   Married-civ-spouse   \n",
       "\n",
       "         occupation    relationship    race    sex  capital_gain  \\\n",
       "0      Adm-clerical   Not-in-family   White   Male          2174   \n",
       "1   Exec-managerial         Husband   White   Male             0   \n",
       "\n",
       "   capital_loss  hours_per_week  native_country  \n",
       "0             0              40   United-States  \n",
       "1             0              13   United-States  "
      ]
     },
     "execution_count": 16,
     "metadata": {},
     "output_type": "execute_result"
    }
   ],
   "source": [
    "# Define the X and Y variables\n",
    "\n",
    "y = df.loc[:, \"salary\"]\n",
    "\n",
    "X = df.loc[:, ['age','workclass','fnlwgt','education','edu_num','marital_status','occupation','relationship','race','sex','capital_gain','capital_loss','hours_per_week','native_country']]\n",
    "\n",
    "X.head(2)"
   ]
  },
  {
   "cell_type": "code",
   "execution_count": 35,
   "metadata": {},
   "outputs": [
    {
     "data": {
      "text/plain": [
       " <=50K    24720\n",
       " >50K      7841\n",
       "Name: salary, dtype: int64"
      ]
     },
     "execution_count": 35,
     "metadata": {},
     "output_type": "execute_result"
    }
   ],
   "source": [
    "y.value_counts()"
   ]
  },
  {
   "cell_type": "markdown",
   "metadata": {},
   "source": [
    "# Exploratory Data Analysis"
   ]
  },
  {
   "cell_type": "code",
   "execution_count": 28,
   "metadata": {},
   "outputs": [
    {
     "data": {
      "image/png": "[encoded data removed]",
      "text/plain": [
       "<Figure size 1440x1080 with 6 Axes>"
      ]
     },
     "metadata": {
      "needs_background": "light"
     },
     "output_type": "display_data"
    }
   ],
   "source": [
    "%matplotlib inline\n",
    "import matplotlib.pyplot as plt\n",
    "X.hist(bins=50, figsize=(20,15))\n",
    "plt.show()"
   ]
  },
  {
   "cell_type": "markdown",
   "metadata": {},
   "source": [
    "In the graphs above, the age graph is skewed towards the right, which is expected as this is data of a working population. It also has some spikes, however they follow the general shape of the curve.\n",
    "\n",
    "The graphs for the capital gain and capital loss both indicate that majority of the people have no capital gain or loss. \n",
    "\n",
    "The education numbers indicate the level of education, these show that most peole have a high school education, followed by some college education. \n",
    "\n",
    "Most people work 40 hours a week which is expected for most full time jobs.\n",
    "\n",
    "The fnlwgt is a reference number so that will be dropped. "
   ]
  },
  {
   "cell_type": "code",
   "execution_count": 7,
   "metadata": {
    "scrolled": true
   },
   "outputs": [
    {
     "data": {
      "text/html": [
       "<div>\n",
       "<style scoped>\n",
       "    .dataframe tbody tr th:only-of-type {\n",
       "        vertical-align: middle;\n",
       "    }\n",
       "\n",
       "    .dataframe tbody tr th {\n",
       "        vertical-align: top;\n",
       "    }\n",
       "\n",
       "    .dataframe thead th {\n",
       "        text-align: right;\n",
       "    }\n",
       "</style>\n",
       "<table border=\"1\" class=\"dataframe\">\n",
       "  <thead>\n",
       "    <tr style=\"text-align: right;\">\n",
       "      <th></th>\n",
       "      <th>edu_num</th>\n",
       "    </tr>\n",
       "    <tr>\n",
       "      <th>education</th>\n",
       "      <th></th>\n",
       "    </tr>\n",
       "  </thead>\n",
       "  <tbody>\n",
       "    <tr>\n",
       "      <th>10th</th>\n",
       "      <td>933</td>\n",
       "    </tr>\n",
       "    <tr>\n",
       "      <th>11th</th>\n",
       "      <td>1175</td>\n",
       "    </tr>\n",
       "    <tr>\n",
       "      <th>12th</th>\n",
       "      <td>433</td>\n",
       "    </tr>\n",
       "    <tr>\n",
       "      <th>1st-4th</th>\n",
       "      <td>168</td>\n",
       "    </tr>\n",
       "    <tr>\n",
       "      <th>5th-6th</th>\n",
       "      <td>333</td>\n",
       "    </tr>\n",
       "    <tr>\n",
       "      <th>7th-8th</th>\n",
       "      <td>646</td>\n",
       "    </tr>\n",
       "    <tr>\n",
       "      <th>9th</th>\n",
       "      <td>514</td>\n",
       "    </tr>\n",
       "    <tr>\n",
       "      <th>Assoc-acdm</th>\n",
       "      <td>1067</td>\n",
       "    </tr>\n",
       "    <tr>\n",
       "      <th>Assoc-voc</th>\n",
       "      <td>1382</td>\n",
       "    </tr>\n",
       "    <tr>\n",
       "      <th>Bachelors</th>\n",
       "      <td>5355</td>\n",
       "    </tr>\n",
       "    <tr>\n",
       "      <th>Doctorate</th>\n",
       "      <td>413</td>\n",
       "    </tr>\n",
       "    <tr>\n",
       "      <th>HS-grad</th>\n",
       "      <td>10501</td>\n",
       "    </tr>\n",
       "    <tr>\n",
       "      <th>Masters</th>\n",
       "      <td>1723</td>\n",
       "    </tr>\n",
       "    <tr>\n",
       "      <th>Preschool</th>\n",
       "      <td>51</td>\n",
       "    </tr>\n",
       "    <tr>\n",
       "      <th>Prof-school</th>\n",
       "      <td>576</td>\n",
       "    </tr>\n",
       "    <tr>\n",
       "      <th>Some-college</th>\n",
       "      <td>7291</td>\n",
       "    </tr>\n",
       "  </tbody>\n",
       "</table>\n",
       "</div>"
      ],
      "text/plain": [
       "               edu_num\n",
       "education             \n",
       " 10th              933\n",
       " 11th             1175\n",
       " 12th              433\n",
       " 1st-4th           168\n",
       " 5th-6th           333\n",
       " 7th-8th           646\n",
       " 9th               514\n",
       " Assoc-acdm       1067\n",
       " Assoc-voc        1382\n",
       " Bachelors        5355\n",
       " Doctorate         413\n",
       " HS-grad         10501\n",
       " Masters          1723\n",
       " Preschool          51\n",
       " Prof-school       576\n",
       " Some-college     7291"
      ]
     },
     "execution_count": 7,
     "metadata": {},
     "output_type": "execute_result"
    }
   ],
   "source": [
    "X.groupby('education')[['edu_num']].count()"
   ]
  },
  {
   "cell_type": "code",
   "execution_count": 22,
   "metadata": {},
   "outputs": [
    {
     "data": {
      "text/plain": [
       "Text(0, 0.5, 'Numbers')"
      ]
     },
     "execution_count": 22,
     "metadata": {},
     "output_type": "execute_result"
    },
    {
     "data": {
      "image/png": "[encoded data removed]",
      "text/plain": [
       "<Figure size 432x288 with 1 Axes>"
      ]
     },
     "metadata": {},
     "output_type": "display_data"
    }
   ],
   "source": [
    "# Make a graph for y\n",
    "\n",
    "plt.hist(y)\n",
    "plt.title(\"Distribution of Salary\")\n",
    "plt.ylabel(\"Numbers\")"
   ]
  },
  {
   "cell_type": "markdown",
   "metadata": {},
   "source": [
    "From the data it is evident that there are way more people who earn equal to or less than 50K. "
   ]
  },
  {
   "cell_type": "code",
   "execution_count": 82,
   "metadata": {},
   "outputs": [
    {
     "data": {
      "text/plain": [
       "Text(0.5, 1.0, 'Hours worked per week')"
      ]
     },
     "execution_count": 82,
     "metadata": {},
     "output_type": "execute_result"
    },
    {
     "data": {
      "image/png": "[encoded data removed]",
      "text/plain": [
       "<Figure size 432x288 with 1 Axes>"
      ]
     },
     "metadata": {},
     "output_type": "display_data"
    }
   ],
   "source": [
    "seaborn.barplot(x=\"sex\",y=\"hours_per_week\", hue=\"salary\", data=df)\n",
    "plt.ylabel('Hours per week')\n",
    "plt.title('Hours worked per week')"
   ]
  },
  {
   "cell_type": "markdown",
   "metadata": {},
   "source": [
    "This graphs shows that men tend to earn alittle more money than women and also work afew more hours per week."
   ]
  },
  {
   "cell_type": "code",
   "execution_count": 20,
   "metadata": {},
   "outputs": [
    {
     "data": {
      "text/plain": [
       "Text(0.5, 1.0, 'Hours worked per week')"
      ]
     },
     "execution_count": 20,
     "metadata": {},
     "output_type": "execute_result"
    },
    {
     "data": {
      "image/png": "[encoded data removed]",
      "text/plain": [
       "<Figure size 432x288 with 1 Axes>"
      ]
     },
     "metadata": {},
     "output_type": "display_data"
    }
   ],
   "source": [
    "seaborn.barplot(x=\"salary\",y=\"hours_per_week\", hue=\"sex\", data=df)\n",
    "plt.ylabel('Hours per week')\n",
    "plt.title('Hours worked per week')"
   ]
  },
  {
   "cell_type": "markdown",
   "metadata": {},
   "source": [
    "People who earn more than 50K tend to work afew more hours per week."
   ]
  },
  {
   "cell_type": "markdown",
   "metadata": {},
   "source": [
    "# Data Cleaning"
   ]
  },
  {
   "cell_type": "markdown",
   "metadata": {},
   "source": [
    "### Check for missing data"
   ]
  },
  {
   "cell_type": "code",
   "execution_count": 10,
   "metadata": {
    "scrolled": true
   },
   "outputs": [
    {
     "name": "stdout",
     "output_type": "stream",
     "text": [
      "<class 'pandas.core.frame.DataFrame'>\n",
      "RangeIndex: 32561 entries, 0 to 32560\n",
      "Data columns (total 15 columns):\n",
      " #   Column          Non-Null Count  Dtype \n",
      "---  ------          --------------  ----- \n",
      " 0   age             32561 non-null  int64 \n",
      " 1   workclass       32561 non-null  object\n",
      " 2   code            32561 non-null  int64 \n",
      " 3   education       32561 non-null  object\n",
      " 4   edu-num         32561 non-null  int64 \n",
      " 5   marital-status  32561 non-null  object\n",
      " 6   occupation      32561 non-null  object\n",
      " 7   relationship    32561 non-null  object\n",
      " 8   race            32561 non-null  object\n",
      " 9   sex             32561 non-null  object\n",
      " 10  capital-gain    32561 non-null  int64 \n",
      " 11  capital-loss    32561 non-null  int64 \n",
      " 12  hours-per-week  32561 non-null  int64 \n",
      " 13  native-country  32561 non-null  object\n",
      " 14  salary          32561 non-null  object\n",
      "dtypes: int64(6), object(9)\n",
      "memory usage: 2.6+ MB\n"
     ]
    }
   ],
   "source": [
    "# Check for missing values\n",
    "\n",
    "df.info()"
   ]
  },
  {
   "cell_type": "markdown",
   "metadata": {},
   "source": [
    "The data above indicates that there is no missing value."
   ]
  },
  {
   "cell_type": "code",
   "execution_count": 10,
   "metadata": {},
   "outputs": [
    {
     "data": {
      "text/plain": [
       "<matplotlib.axes._subplots.AxesSubplot at 0x17c1058>"
      ]
     },
     "execution_count": 10,
     "metadata": {},
     "output_type": "execute_result"
    },
    {
     "data": {
      "image/png": "[encoded data removed]",
      "text/plain": [
       "<Figure size 432x288 with 1 Axes>"
      ]
     },
     "metadata": {},
     "output_type": "display_data"
    }
   ],
   "source": [
    "# Check for outliers\n",
    "\n",
    "df.edu_num.plot(kind = 'box')"
   ]
  },
  {
   "cell_type": "markdown",
   "metadata": {},
   "source": [
    "This shows the lower level of education has outliers, however it is possible in a population to find afew people who have a very low level of education probably because of a disability or other disadvantages."
   ]
  },
  {
   "cell_type": "markdown",
   "metadata": {},
   "source": [
    "# Feature Engineering"
   ]
  },
  {
   "cell_type": "code",
   "execution_count": 13,
   "metadata": {},
   "outputs": [
    {
     "data": {
      "text/plain": [
       "0.7591904425539756"
      ]
     },
     "execution_count": 13,
     "metadata": {},
     "output_type": "execute_result"
    }
   ],
   "source": [
    "# Ratio of <=50K and >50K\n",
    "\n",
    "24720/(24720+7841)"
   ]
  },
  {
   "cell_type": "markdown",
   "metadata": {},
   "source": [
    "### Create Feature\n",
    "\n",
    "To get the net gain it is important to subtract capital_gain from capital_loss this will give us the capital net gain. So we create a column capital_net."
   ]
  },
  {
   "cell_type": "code",
   "execution_count": 19,
   "metadata": {},
   "outputs": [
    {
     "data": {
      "text/html": [
       "<div>\n",
       "<style scoped>\n",
       "    .dataframe tbody tr th:only-of-type {\n",
       "        vertical-align: middle;\n",
       "    }\n",
       "\n",
       "    .dataframe tbody tr th {\n",
       "        vertical-align: top;\n",
       "    }\n",
       "\n",
       "    .dataframe thead th {\n",
       "        text-align: right;\n",
       "    }\n",
       "</style>\n",
       "<table border=\"1\" class=\"dataframe\">\n",
       "  <thead>\n",
       "    <tr style=\"text-align: right;\">\n",
       "      <th></th>\n",
       "      <th>age</th>\n",
       "      <th>workclass</th>\n",
       "      <th>fnlwgt</th>\n",
       "      <th>education</th>\n",
       "      <th>edu_num</th>\n",
       "      <th>marital_status</th>\n",
       "      <th>occupation</th>\n",
       "      <th>relationship</th>\n",
       "      <th>race</th>\n",
       "      <th>sex</th>\n",
       "      <th>capital_gain</th>\n",
       "      <th>capital_loss</th>\n",
       "      <th>hours_per_week</th>\n",
       "      <th>native_country</th>\n",
       "      <th>capital_net</th>\n",
       "    </tr>\n",
       "  </thead>\n",
       "  <tbody>\n",
       "    <tr>\n",
       "      <th>0</th>\n",
       "      <td>39</td>\n",
       "      <td>State-gov</td>\n",
       "      <td>77516</td>\n",
       "      <td>Bachelors</td>\n",
       "      <td>13</td>\n",
       "      <td>Never-married</td>\n",
       "      <td>Adm-clerical</td>\n",
       "      <td>Not-in-family</td>\n",
       "      <td>White</td>\n",
       "      <td>Male</td>\n",
       "      <td>2174</td>\n",
       "      <td>0</td>\n",
       "      <td>40</td>\n",
       "      <td>United-States</td>\n",
       "      <td>2174</td>\n",
       "    </tr>\n",
       "    <tr>\n",
       "      <th>1</th>\n",
       "      <td>50</td>\n",
       "      <td>Self-emp-not-inc</td>\n",
       "      <td>83311</td>\n",
       "      <td>Bachelors</td>\n",
       "      <td>13</td>\n",
       "      <td>Married-civ-spouse</td>\n",
       "      <td>Exec-managerial</td>\n",
       "      <td>Husband</td>\n",
       "      <td>White</td>\n",
       "      <td>Male</td>\n",
       "      <td>0</td>\n",
       "      <td>0</td>\n",
       "      <td>13</td>\n",
       "      <td>United-States</td>\n",
       "      <td>0</td>\n",
       "    </tr>\n",
       "    <tr>\n",
       "      <th>2</th>\n",
       "      <td>38</td>\n",
       "      <td>Private</td>\n",
       "      <td>215646</td>\n",
       "      <td>HS-grad</td>\n",
       "      <td>9</td>\n",
       "      <td>Divorced</td>\n",
       "      <td>Handlers-cleaners</td>\n",
       "      <td>Not-in-family</td>\n",
       "      <td>White</td>\n",
       "      <td>Male</td>\n",
       "      <td>0</td>\n",
       "      <td>0</td>\n",
       "      <td>40</td>\n",
       "      <td>United-States</td>\n",
       "      <td>0</td>\n",
       "    </tr>\n",
       "    <tr>\n",
       "      <th>3</th>\n",
       "      <td>53</td>\n",
       "      <td>Private</td>\n",
       "      <td>234721</td>\n",
       "      <td>11th</td>\n",
       "      <td>7</td>\n",
       "      <td>Married-civ-spouse</td>\n",
       "      <td>Handlers-cleaners</td>\n",
       "      <td>Husband</td>\n",
       "      <td>Black</td>\n",
       "      <td>Male</td>\n",
       "      <td>0</td>\n",
       "      <td>0</td>\n",
       "      <td>40</td>\n",
       "      <td>United-States</td>\n",
       "      <td>0</td>\n",
       "    </tr>\n",
       "    <tr>\n",
       "      <th>4</th>\n",
       "      <td>28</td>\n",
       "      <td>Private</td>\n",
       "      <td>338409</td>\n",
       "      <td>Bachelors</td>\n",
       "      <td>13</td>\n",
       "      <td>Married-civ-spouse</td>\n",
       "      <td>Prof-specialty</td>\n",
       "      <td>Wife</td>\n",
       "      <td>Black</td>\n",
       "      <td>Female</td>\n",
       "      <td>0</td>\n",
       "      <td>0</td>\n",
       "      <td>40</td>\n",
       "      <td>Cuba</td>\n",
       "      <td>0</td>\n",
       "    </tr>\n",
       "  </tbody>\n",
       "</table>\n",
       "</div>"
      ],
      "text/plain": [
       "   age          workclass  fnlwgt   education  edu_num       marital_status  \\\n",
       "0   39          State-gov   77516   Bachelors       13        Never-married   \n",
       "1   50   Self-emp-not-inc   83311   Bachelors       13   Married-civ-spouse   \n",
       "2   38            Private  215646     HS-grad        9             Divorced   \n",
       "3   53            Private  234721        11th        7   Married-civ-spouse   \n",
       "4   28            Private  338409   Bachelors       13   Married-civ-spouse   \n",
       "\n",
       "           occupation    relationship    race      sex  capital_gain  \\\n",
       "0        Adm-clerical   Not-in-family   White     Male          2174   \n",
       "1     Exec-managerial         Husband   White     Male             0   \n",
       "2   Handlers-cleaners   Not-in-family   White     Male             0   \n",
       "3   Handlers-cleaners         Husband   Black     Male             0   \n",
       "4      Prof-specialty            Wife   Black   Female             0   \n",
       "\n",
       "   capital_loss  hours_per_week  native_country  capital_net  \n",
       "0             0              40   United-States         2174  \n",
       "1             0              13   United-States            0  \n",
       "2             0              40   United-States            0  \n",
       "3             0              40   United-States            0  \n",
       "4             0              40            Cuba            0  "
      ]
     },
     "execution_count": 19,
     "metadata": {},
     "output_type": "execute_result"
    }
   ],
   "source": [
    "X['capital_net'] = X['capital_gain']-X['capital_loss']\n",
    "\n",
    "X.head(5)"
   ]
  },
  {
   "cell_type": "markdown",
   "metadata": {},
   "source": [
    "### Drop columns\n",
    "\n",
    "From our exploratory analysis we see that we will need to drop the `fnlwgt` column. This is because this are just reference numbers.We will also drop the `relationship` column because it is very similar to the `marital_status`, therefore it is redundant. The `education` column will be dropped, because it is the same as the `edu-num` column, which represents the education levels with a number.  Since, we have generated the column `capital_net`, we can now drop `capital_gain` and `capital_loss`."
   ]
  },
  {
   "cell_type": "code",
   "execution_count": 20,
   "metadata": {
    "scrolled": true
   },
   "outputs": [
    {
     "data": {
      "text/html": [
       "<div>\n",
       "<style scoped>\n",
       "    .dataframe tbody tr th:only-of-type {\n",
       "        vertical-align: middle;\n",
       "    }\n",
       "\n",
       "    .dataframe tbody tr th {\n",
       "        vertical-align: top;\n",
       "    }\n",
       "\n",
       "    .dataframe thead th {\n",
       "        text-align: right;\n",
       "    }\n",
       "</style>\n",
       "<table border=\"1\" class=\"dataframe\">\n",
       "  <thead>\n",
       "    <tr style=\"text-align: right;\">\n",
       "      <th></th>\n",
       "      <th>age</th>\n",
       "      <th>workclass</th>\n",
       "      <th>edu_num</th>\n",
       "      <th>marital_status</th>\n",
       "      <th>occupation</th>\n",
       "      <th>race</th>\n",
       "      <th>sex</th>\n",
       "      <th>hours_per_week</th>\n",
       "      <th>native_country</th>\n",
       "      <th>capital_net</th>\n",
       "    </tr>\n",
       "  </thead>\n",
       "  <tbody>\n",
       "    <tr>\n",
       "      <th>0</th>\n",
       "      <td>39</td>\n",
       "      <td>State-gov</td>\n",
       "      <td>13</td>\n",
       "      <td>Never-married</td>\n",
       "      <td>Adm-clerical</td>\n",
       "      <td>White</td>\n",
       "      <td>Male</td>\n",
       "      <td>40</td>\n",
       "      <td>United-States</td>\n",
       "      <td>2174</td>\n",
       "    </tr>\n",
       "    <tr>\n",
       "      <th>1</th>\n",
       "      <td>50</td>\n",
       "      <td>Self-emp-not-inc</td>\n",
       "      <td>13</td>\n",
       "      <td>Married-civ-spouse</td>\n",
       "      <td>Exec-managerial</td>\n",
       "      <td>White</td>\n",
       "      <td>Male</td>\n",
       "      <td>13</td>\n",
       "      <td>United-States</td>\n",
       "      <td>0</td>\n",
       "    </tr>\n",
       "    <tr>\n",
       "      <th>2</th>\n",
       "      <td>38</td>\n",
       "      <td>Private</td>\n",
       "      <td>9</td>\n",
       "      <td>Divorced</td>\n",
       "      <td>Handlers-cleaners</td>\n",
       "      <td>White</td>\n",
       "      <td>Male</td>\n",
       "      <td>40</td>\n",
       "      <td>United-States</td>\n",
       "      <td>0</td>\n",
       "    </tr>\n",
       "    <tr>\n",
       "      <th>3</th>\n",
       "      <td>53</td>\n",
       "      <td>Private</td>\n",
       "      <td>7</td>\n",
       "      <td>Married-civ-spouse</td>\n",
       "      <td>Handlers-cleaners</td>\n",
       "      <td>Black</td>\n",
       "      <td>Male</td>\n",
       "      <td>40</td>\n",
       "      <td>United-States</td>\n",
       "      <td>0</td>\n",
       "    </tr>\n",
       "    <tr>\n",
       "      <th>4</th>\n",
       "      <td>28</td>\n",
       "      <td>Private</td>\n",
       "      <td>13</td>\n",
       "      <td>Married-civ-spouse</td>\n",
       "      <td>Prof-specialty</td>\n",
       "      <td>Black</td>\n",
       "      <td>Female</td>\n",
       "      <td>40</td>\n",
       "      <td>Cuba</td>\n",
       "      <td>0</td>\n",
       "    </tr>\n",
       "  </tbody>\n",
       "</table>\n",
       "</div>"
      ],
      "text/plain": [
       "   age          workclass  edu_num       marital_status          occupation  \\\n",
       "0   39          State-gov       13        Never-married        Adm-clerical   \n",
       "1   50   Self-emp-not-inc       13   Married-civ-spouse     Exec-managerial   \n",
       "2   38            Private        9             Divorced   Handlers-cleaners   \n",
       "3   53            Private        7   Married-civ-spouse   Handlers-cleaners   \n",
       "4   28            Private       13   Married-civ-spouse      Prof-specialty   \n",
       "\n",
       "     race      sex  hours_per_week  native_country  capital_net  \n",
       "0   White     Male              40   United-States         2174  \n",
       "1   White     Male              13   United-States            0  \n",
       "2   White     Male              40   United-States            0  \n",
       "3   Black     Male              40   United-States            0  \n",
       "4   Black   Female              40            Cuba            0  "
      ]
     },
     "execution_count": 20,
     "metadata": {},
     "output_type": "execute_result"
    }
   ],
   "source": [
    "# Drop columns\n",
    "\n",
    "X.drop(['fnlwgt','education','relationship','capital_gain','capital_loss'], axis=1, inplace=True)\n",
    "\n",
    "X.head(5)"
   ]
  },
  {
   "cell_type": "markdown",
   "metadata": {},
   "source": [
    "### Transform Data"
   ]
  },
  {
   "cell_type": "markdown",
   "metadata": {},
   "source": [
    "### Transform Y\n",
    "\n",
    "Y has categorical data <=50K and >50K, we need to change the y data to numerical values. We use the LabelEncoder"
   ]
  },
  {
   "cell_type": "code",
   "execution_count": 11,
   "metadata": {},
   "outputs": [],
   "source": [
    "# Convert target data into numerical values\n",
    "\n",
    "le = LabelEncoder()"
   ]
  },
  {
   "cell_type": "code",
   "execution_count": 12,
   "metadata": {},
   "outputs": [
    {
     "data": {
      "text/plain": [
       "LabelEncoder()"
      ]
     },
     "execution_count": 12,
     "metadata": {},
     "output_type": "execute_result"
    }
   ],
   "source": [
    "# Fit label encoder to y\n",
    "\n",
    "le.fit(y)"
   ]
  },
  {
   "cell_type": "code",
   "execution_count": 13,
   "metadata": {},
   "outputs": [
    {
     "data": {
      "text/plain": [
       "array([0, 0, 0, ..., 0, 0, 1])"
      ]
     },
     "execution_count": 13,
     "metadata": {},
     "output_type": "execute_result"
    }
   ],
   "source": [
    "# Transform y\n",
    "le.transform(y)"
   ]
  },
  {
   "cell_type": "code",
   "execution_count": 14,
   "metadata": {},
   "outputs": [
    {
     "data": {
      "text/plain": [
       "array([' <=50K', ' >50K'], dtype=object)"
      ]
     },
     "execution_count": 14,
     "metadata": {},
     "output_type": "execute_result"
    }
   ],
   "source": [
    "# Class names\n",
    "\n",
    "le.classes_"
   ]
  },
  {
   "cell_type": "markdown",
   "metadata": {},
   "source": [
    "### OneHot Encoder\n",
    "\n",
    " The X data is converted from categorical data in X to numeric using the OneHot Encoder from sklearn. The OneHot Encoder ensures that the categorical features do not become ordered or ranked when transformed from strings to numerical format. "
   ]
  },
  {
   "cell_type": "markdown",
   "metadata": {},
   "source": [
    "The columns `workclass`,`occupation`,`race`,`sex`,`native_country`, are all strings and need to be changed to numerical values, in order to perform a classification regression. The mentioned columns are in the X target variables."
   ]
  },
  {
   "cell_type": "code",
   "execution_count": 15,
   "metadata": {},
   "outputs": [],
   "source": [
    "# import OneHotEncoder\n",
    "##\n",
    "\n",
    "from sklearn.compose import ColumnTransformer\n",
    "\n",
    "from sklearn.preprocessing import OneHotEncoder"
   ]
  },
  {
   "cell_type": "code",
   "execution_count": 16,
   "metadata": {},
   "outputs": [],
   "source": [
    "# instantiate\n",
    "## encoder = OneHotEncoder(drop = None, categories = 'auto')\n",
    "##\n",
    "\n",
    "columnTransformer = ColumnTransformer([OneHotEncoder(drop = None, categories = 'auto')])\n"
   ]
  },
  {
   "cell_type": "code",
   "execution_count": 17,
   "metadata": {},
   "outputs": [
    {
     "data": {
      "text/plain": [
       "OneHotEncoder()"
      ]
     },
     "execution_count": 17,
     "metadata": {},
     "output_type": "execute_result"
    }
   ],
   "source": [
    "##X=np.array(columnTransformer.fit_transform(X), dtype = np.str)\n",
    "encoder = OneHotEncoder()\n",
    "\n",
    "encoder.fit(X)"
   ]
  },
  {
   "cell_type": "code",
   "execution_count": 18,
   "metadata": {},
   "outputs": [],
   "source": [
    "\n",
    "X = encoder.transform(X)"
   ]
  },
  {
   "cell_type": "markdown",
   "metadata": {},
   "source": [
    "Looking at X we see that it is now transformed to numpy array by OneHotEncoder."
   ]
  },
  {
   "cell_type": "code",
   "execution_count": 19,
   "metadata": {},
   "outputs": [
    {
     "data": {
      "text/plain": [
       "<32561x473 sparse matrix of type '<class 'numpy.float64'>'\n",
       "\twith 325610 stored elements in Compressed Sparse Row format>"
      ]
     },
     "execution_count": 19,
     "metadata": {},
     "output_type": "execute_result"
    }
   ],
   "source": [
    "# Looking at X \n",
    "X\n",
    "             "
   ]
  },
  {
   "cell_type": "markdown",
   "metadata": {},
   "source": [
    "### Splitting Data"
   ]
  },
  {
   "cell_type": "code",
   "execution_count": 20,
   "metadata": {},
   "outputs": [],
   "source": [
    "# Use train-test-split already imported at the beginning\n",
    "\n",
    "X_train, X_test, y_train, y_test = train_test_split(X,y, test_size=0.2, random_state = 1, stratify = y)\n"
   ]
  },
  {
   "cell_type": "code",
   "execution_count": 21,
   "metadata": {},
   "outputs": [
    {
     "data": {
      "text/plain": [
       "(26048, 473)"
      ]
     },
     "execution_count": 21,
     "metadata": {},
     "output_type": "execute_result"
    }
   ],
   "source": [
    "X_train.shape"
   ]
  },
  {
   "cell_type": "code",
   "execution_count": 22,
   "metadata": {},
   "outputs": [
    {
     "data": {
      "text/plain": [
       "(6513, 473)"
      ]
     },
     "execution_count": 22,
     "metadata": {},
     "output_type": "execute_result"
    }
   ],
   "source": [
    "X_test.shape"
   ]
  },
  {
   "cell_type": "code",
   "execution_count": 23,
   "metadata": {},
   "outputs": [
    {
     "data": {
      "text/plain": [
       "(array([' <=50K', ' >50K'], dtype=object), array([19775,  6273]))"
      ]
     },
     "execution_count": 23,
     "metadata": {},
     "output_type": "execute_result"
    }
   ],
   "source": [
    "np.unique(y_train, return_counts = True)"
   ]
  },
  {
   "cell_type": "code",
   "execution_count": 24,
   "metadata": {},
   "outputs": [
    {
     "data": {
      "text/plain": [
       "0.7591753685503686"
      ]
     },
     "execution_count": 24,
     "metadata": {},
     "output_type": "execute_result"
    }
   ],
   "source": [
    "19775/(19775+6273)"
   ]
  },
  {
   "cell_type": "code",
   "execution_count": 25,
   "metadata": {},
   "outputs": [
    {
     "data": {
      "text/plain": [
       "(array([' <=50K', ' >50K'], dtype=object), array([4945, 1568]))"
      ]
     },
     "execution_count": 25,
     "metadata": {},
     "output_type": "execute_result"
    }
   ],
   "source": [
    "np.unique(y_test, return_counts = True)"
   ]
  },
  {
   "cell_type": "markdown",
   "metadata": {},
   "source": [
    "# Modeling"
   ]
  },
  {
   "cell_type": "markdown",
   "metadata": {},
   "source": [
    "## Logistic Regression"
   ]
  },
  {
   "cell_type": "code",
   "execution_count": 26,
   "metadata": {},
   "outputs": [],
   "source": [
    "# import Logistic Regression from sklearn\n",
    "from sklearn.linear_model import LogisticRegression"
   ]
  },
  {
   "cell_type": "code",
   "execution_count": 27,
   "metadata": {},
   "outputs": [],
   "source": [
    "# Already imported Logistic Regression from sklearn\n",
    "# Instantiate LR with no penalty\n",
    "\n",
    "lr = LogisticRegression(penalty = 'none', max_iter = 5000)"
   ]
  },
  {
   "cell_type": "code",
   "execution_count": 28,
   "metadata": {},
   "outputs": [
    {
     "data": {
      "text/plain": [
       "LogisticRegression(max_iter=5000, penalty='none')"
      ]
     },
     "execution_count": 28,
     "metadata": {},
     "output_type": "execute_result"
    }
   ],
   "source": [
    "# fit model\n",
    "\n",
    "lr.fit(X_train, y_train)"
   ]
  },
  {
   "cell_type": "code",
   "execution_count": 29,
   "metadata": {},
   "outputs": [
    {
     "data": {
      "text/plain": [
       "array([[-7.93899788e+00, -1.13975335e+01, -1.41028717e+01,\n",
       "        -1.62325065e+01, -9.51720179e-01, -6.85066768e-01,\n",
       "        -1.08065182e+00, -1.98699000e-01,  2.51302897e-01,\n",
       "         3.96275083e-01,  6.52599561e-01,  8.54702659e-01,\n",
       "         9.06698929e-01,  1.20052451e+00,  1.25316273e+00,\n",
       "         1.12040155e+00,  1.11823914e+00,  1.52447731e+00,\n",
       "         1.30808526e+00,  1.50671496e+00,  1.69829417e+00,\n",
       "         1.48348072e+00,  1.66426821e+00,  1.71311935e+00,\n",
       "         1.66587529e+00,  1.72872621e+00,  1.62691981e+00,\n",
       "         1.74591060e+00,  1.89277615e+00,  1.88535837e+00,\n",
       "         2.08239842e+00,  2.14970831e+00,  1.80324547e+00,\n",
       "         2.09660697e+00,  1.79842870e+00,  1.98683383e+00,\n",
       "         2.05784367e+00,  2.10196313e+00,  1.56980451e+00,\n",
       "         1.84160088e+00,  1.85442484e+00,  1.83005289e+00,\n",
       "         2.04993808e+00,  1.65028789e+00,  1.86681208e+00,\n",
       "         1.32320639e+00,  1.63125909e+00,  1.60203228e+00,\n",
       "         1.23484957e+00,  1.06259859e+00,  1.23694332e+00,\n",
       "         1.55580240e+00,  6.74997159e-01,  1.03384283e+00,\n",
       "         1.81882752e+00,  1.19908251e+00,  1.22292553e+00,\n",
       "         2.20704467e+00,  1.30471271e+00,  1.75915264e+00,\n",
       "         9.37003776e-01,  2.35403144e+00,  1.80235121e+00,\n",
       "        -2.50092596e-01,  1.81916629e+00, -6.27248237e+00,\n",
       "        -3.38210434e+00, -5.67305570e+00, -6.13969294e+00,\n",
       "        -4.45370229e+00, -2.19922189e+00, -1.11486478e+01,\n",
       "        -7.05418669e-02,  6.96717273e-01,  9.51518510e-01,\n",
       "         2.82663734e-01, -2.46260352e-01,  4.02986828e-01,\n",
       "         5.70468705e-01, -2.15011973e-02,  1.05756526e-01,\n",
       "        -9.20224616e+00, -1.02749532e+01, -1.55277777e+00,\n",
       "        -1.06929800e+00, -1.00938762e+00, -6.49253775e-01,\n",
       "        -7.18179641e-01, -6.80949540e-01, -1.91186776e-01,\n",
       "         1.90855525e-01,  5.38365531e-01,  6.51338885e-01,\n",
       "         6.60427768e-01,  1.31380186e+00,  1.59085456e+00,\n",
       "         2.33083205e+00,  2.40961399e+00, -1.78092687e+00,\n",
       "         1.89775251e+00,  4.87611877e-01, -1.65629255e+00,\n",
       "        -2.00801550e+00, -2.00123530e+00, -1.39879031e+00,\n",
       "         4.50456921e-01,  1.08738792e+00, -7.81015954e+00,\n",
       "         1.01838691e+00,  1.75082480e+00,  3.11234821e-02,\n",
       "         2.70986362e-01,  7.05980743e-01,  2.38125169e-01,\n",
       "        -1.13229372e+01,  1.54036650e+00,  1.66130999e+00,\n",
       "         1.36892302e+00,  1.73627807e+00,  8.13050675e-01,\n",
       "        -1.72353043e+00, -9.52471963e-01, -1.31361688e+00,\n",
       "        -1.44998051e+00, -1.02029635e+00, -3.25799191e+00,\n",
       "        -3.20190422e+00,  1.02002668e+00,  1.20970915e+00,\n",
       "        -3.62566289e-01,  3.56127358e-01,  1.64617974e+00,\n",
       "         7.59718201e-01,  1.97470450e+00,  7.95142829e-01,\n",
       "         1.66206295e+00,  7.29461309e-01, -7.75342061e+00,\n",
       "         1.08719957e+00,  3.31983216e-01,  9.52079849e-01,\n",
       "         2.43341235e-01,  6.47602442e-01, -1.00563188e+01,\n",
       "         5.77741752e-01, -7.58373485e+00,  1.10134496e+00,\n",
       "         6.12092900e-01,  1.81669970e+00, -7.00897598e+00,\n",
       "         1.07189425e+00,  8.40753579e-01,  1.07393573e+00,\n",
       "         5.34762044e-01,  1.01639203e+00,  2.20396803e+00,\n",
       "         1.02489431e+00, -4.63790793e+00,  1.19180527e+00,\n",
       "         1.11477009e+00,  4.70056272e-01,  1.57181268e+00,\n",
       "         1.40212572e+00,  1.50309464e+00,  1.60436491e+00,\n",
       "         1.06812911e+00,  1.63320535e+00,  1.67893519e+00,\n",
       "         2.28090861e+00,  1.65424603e+00,  2.02982110e+00,\n",
       "         2.01914503e+00,  2.25956550e+00,  1.54881745e+00,\n",
       "         1.94612643e+00,  1.71062172e+00,  2.13479400e+00,\n",
       "        -8.06680031e+00,  1.93243772e+00,  2.43899759e+00,\n",
       "         2.66919408e+00,  2.03865465e+00,  3.15157006e+00,\n",
       "         1.91374106e+00,  1.95734211e+00, -5.01043780e+00,\n",
       "         1.99299987e+00,  1.14606855e+01,  8.50818065e-01,\n",
       "         9.30170236e-01,  1.56456515e+00,  2.44987012e+00,\n",
       "        -9.44899183e+00, -6.42803275e+00,  1.07656983e+00,\n",
       "         1.92788025e+00,  1.74520461e+00,  3.49487223e+00,\n",
       "         0.00000000e+00,  2.35765677e+00,  1.50582017e+00,\n",
       "        -7.44052089e+00,  1.60107674e+00,  2.10510366e+00,\n",
       "        -3.97462825e+00, -1.88410548e+00,  3.08911241e+00,\n",
       "         2.79379668e+00, -5.65194480e+00, -1.72026236e+00,\n",
       "        -6.57315205e+00, -8.65138674e+00,  1.71724724e+00,\n",
       "        -8.29372065e+00, -6.83674277e+00, -3.51829312e+00,\n",
       "        -5.63273674e-01, -7.53656719e+00,  2.74396557e+00,\n",
       "         3.48321680e+00,  1.43715645e+00, -7.15071963e-03,\n",
       "         1.82579081e+00,  8.88670677e-01, -2.16468953e-01,\n",
       "        -1.90588059e+00,  6.56319887e-01, -1.30833267e+00,\n",
       "        -1.01661714e+00, -1.80255825e-02,  8.48640121e-01,\n",
       "         5.80276313e-01,  6.25119010e-01, -1.05446825e+00,\n",
       "         2.80590477e-02,  3.84214277e-01, -3.42809568e-01,\n",
       "        -2.14664342e+00,  2.60173222e-01, -1.87577826e-01,\n",
       "        -3.73879999e-01, -3.19638036e-01,  6.90668558e-01,\n",
       "         1.11908913e+00,  6.19408801e-01,  1.13724375e+00,\n",
       "        -4.66633881e-02, -2.06222478e-01, -3.93714871e-01,\n",
       "        -8.32256088e+00, -4.26879765e-01,  4.52984759e-01,\n",
       "         2.79699446e-01,  2.48907134e-01, -2.45400095e-01,\n",
       "         1.75264933e-01, -7.48321698e-01,  1.83448395e-01,\n",
       "         2.93065263e-02, -1.80333839e-01,  4.58349084e-01,\n",
       "        -2.77578501e-01,  1.79363826e+00, -1.08167697e+00,\n",
       "        -2.94727142e+00, -1.23612593e+00,  5.56241668e+00,\n",
       "         1.74779192e+01,  2.36629738e+01, -1.00868934e+00,\n",
       "        -6.16369972e+00,  1.88897900e+01,  1.52395470e+01,\n",
       "         0.00000000e+00,  1.48150886e+01, -7.31828137e+00,\n",
       "        -4.89751500e+00,  1.83460993e+01,  1.75451392e+01,\n",
       "         1.62156981e+01,  5.04445244e+00, -5.83905325e+00,\n",
       "        -7.76025056e+00,  1.68953880e+01, -9.09349951e+00,\n",
       "         6.89507675e+00,  1.47625122e+01, -6.80536359e-01,\n",
       "         2.33201472e+01, -4.76045116e+00, -3.53663347e+00,\n",
       "         0.00000000e+00, -1.33236273e+01,  1.60373534e+01,\n",
       "        -3.53579929e+00, -7.58460164e+00, -4.76645986e+00,\n",
       "         0.00000000e+00, -6.36321928e+00, -1.58646428e+01,\n",
       "        -8.49868451e+00, -1.78410804e+01, -7.79210826e+00,\n",
       "        -9.83103266e+00,  2.24676650e+01, -7.87161650e+00,\n",
       "        -9.27892004e-01,  7.05224094e+00,  2.65612640e+01,\n",
       "        -1.30538799e+01,  1.83748790e+01, -6.68197721e+00,\n",
       "         1.51773533e+01, -2.04036881e+00, -5.10982052e+00,\n",
       "         1.45193441e+01, -9.87511263e+00, -2.24672465e+01,\n",
       "        -4.33463767e+00, -6.26572034e+00, -2.34794230e+00,\n",
       "        -2.98552850e+00, -2.03032475e+01, -1.10470993e+01,\n",
       "        -5.14864413e+00, -8.52793888e+00, -3.09679260e+00,\n",
       "        -1.41472025e+01, -5.25438014e+00, -3.47548640e+00,\n",
       "        -2.33040990e+00, -1.14269325e+01, -1.41626761e+01,\n",
       "        -6.29743550e+00,  2.38047704e+01, -6.83744369e+00,\n",
       "        -6.64484657e+00,  4.66993733e+00, -3.76083123e+00,\n",
       "        -9.91091071e+00, -6.93101236e+00, -7.77849590e+00,\n",
       "        -1.12179791e+01, -1.75515336e+00, -5.69439564e+00,\n",
       "        -2.55255456e-01, -5.38422916e+00, -2.37970969e+00,\n",
       "         6.56096774e+00, -7.62402309e+00, -4.00862627e+00,\n",
       "        -6.57391182e+00, -6.40880735e+00,  0.00000000e+00,\n",
       "         3.93099199e+00, -3.46501491e+00,  0.00000000e+00,\n",
       "        -6.45222102e+00, -8.01203335e+00, -2.67322170e+00,\n",
       "        -3.02818358e+00, -2.85209978e+00, -2.18712642e-01,\n",
       "        -6.65471729e+00, -9.72607416e+00, -5.10951614e+00,\n",
       "        -5.48854674e+00, -5.59961381e+00, -8.46309725e+00,\n",
       "        -1.03896628e+01, -1.87586242e+00, -5.33980111e+00,\n",
       "        -5.26001815e+00, -3.67435236e+00, -4.09441469e+00,\n",
       "        -1.20750926e+00, -5.42425802e+00, -1.07195845e-01,\n",
       "        -7.77989607e+00, -1.12492917e+01, -4.81605278e+00,\n",
       "        -7.17586075e+00, -9.55583423e+00, -6.68152276e+00,\n",
       "        -5.62103709e+00, -4.08247902e+00, -7.25702417e+00,\n",
       "         0.00000000e+00, -1.45304411e+01, -5.28292463e+00,\n",
       "        -6.24880964e+00, -1.07507274e+00, -7.65924581e+00,\n",
       "        -8.28310313e+00, -8.54976486e+00, -6.98952437e+00,\n",
       "        -1.75274110e+01, -1.70021533e+01, -5.72417020e+00,\n",
       "        -7.65192476e+00, -3.36843082e+00, -3.73090986e+00,\n",
       "        -6.08611423e+00, -8.54521314e-01,  7.29471780e+00,\n",
       "        -2.26522182e+01, -6.85586911e+00, -1.39912866e+01,\n",
       "        -1.21390894e+01, -2.36391855e+00, -7.88733339e+00,\n",
       "        -3.37732872e+00, -1.48585586e+01, -9.86064740e+00,\n",
       "        -5.80348427e+00, -1.23401009e+01, -7.67077984e+00,\n",
       "        -3.53937979e+00, -1.87865907e+01, -1.11080650e+01,\n",
       "        -2.49484012e+01, -4.87536252e+00,  6.58286420e+00,\n",
       "        -5.63174881e+00, -1.22755944e+01, -1.31747168e+01,\n",
       "         1.64191455e+01,  2.08906128e+01, -7.71347924e+00,\n",
       "        -4.77827670e+00,  2.64153057e+01, -3.23570453e+01,\n",
       "        -3.62851754e-01,  2.56071833e+01, -8.21951871e+00,\n",
       "         1.46261072e+01, -1.13913015e+00,  1.82201804e+01,\n",
       "        -3.48376654e+00,  1.92249917e+01, -9.25276189e+00,\n",
       "         1.52945199e+01, -3.76680410e+00, -8.08652875e+00,\n",
       "        -8.38486351e+00,  3.16737925e+01,  1.85234908e+01,\n",
       "        -4.22455214e+00,  3.09509657e+01,  2.04109667e+01,\n",
       "        -1.81435011e+00,  3.24619812e+01,  2.01974634e+01,\n",
       "         1.52801913e+01,  2.88504847e+01, -9.72696524e+00,\n",
       "         1.70649499e+01,  1.61602851e+01,  2.60080299e+01,\n",
       "         2.39341568e+01,  3.08609378e+01,  1.53710271e+01,\n",
       "         2.39893715e+01,  2.04167878e+01,  1.65782418e+01,\n",
       "         1.88525365e+01,  0.00000000e+00,  1.74400251e+01,\n",
       "         1.62854025e+01,  2.49541103e+01, -2.68658818e+00,\n",
       "        -6.40214667e+00,  3.33805717e+01]])"
      ]
     },
     "execution_count": 29,
     "metadata": {},
     "output_type": "execute_result"
    }
   ],
   "source": [
    "# Learned the coefficients\n",
    "\n",
    "lr.coef_"
   ]
  },
  {
   "cell_type": "code",
   "execution_count": 42,
   "metadata": {
    "scrolled": true
   },
   "outputs": [
    {
     "data": {
      "text/plain": [
       "array([-6.45989614])"
      ]
     },
     "execution_count": 42,
     "metadata": {},
     "output_type": "execute_result"
    }
   ],
   "source": [
    "# Check the intercept\n",
    "\n",
    "lr.intercept_"
   ]
  },
  {
   "cell_type": "code",
   "execution_count": 31,
   "metadata": {},
   "outputs": [
    {
     "data": {
      "text/plain": [
       "0.8774570024570024"
      ]
     },
     "execution_count": 31,
     "metadata": {},
     "output_type": "execute_result"
    }
   ],
   "source": [
    "# Score ## Accuracy\n",
    "\n",
    "lr.score(X_train, y_train)"
   ]
  },
  {
   "cell_type": "code",
   "execution_count": 44,
   "metadata": {},
   "outputs": [
    {
     "name": "stdout",
     "output_type": "stream",
     "text": [
      "0.8696453247351451\n"
     ]
    }
   ],
   "source": [
    "# Score ## Accuracy\n",
    "\n",
    "score=lr.score(X_test, y_test)\n",
    "\n",
    "print(score)"
   ]
  },
  {
   "cell_type": "markdown",
   "metadata": {},
   "source": [
    "### Confusion Matrix for Logistic Regression"
   ]
  },
  {
   "cell_type": "code",
   "execution_count": 33,
   "metadata": {},
   "outputs": [],
   "source": [
    "# from sklearn import confusion matrix\n",
    "\n",
    "from sklearn.metrics import confusion_matrix"
   ]
  },
  {
   "cell_type": "code",
   "execution_count": 47,
   "metadata": {},
   "outputs": [],
   "source": [
    "# Create a confusion metrics"
   ]
  },
  {
   "cell_type": "code",
   "execution_count": 34,
   "metadata": {},
   "outputs": [],
   "source": [
    "y_pred = lr.predict(X_test)"
   ]
  },
  {
   "cell_type": "code",
   "execution_count": 80,
   "metadata": {},
   "outputs": [
    {
     "name": "stdout",
     "output_type": "stream",
     "text": [
      "[' <=50K' ' >50K' ' <=50K' ' >50K' ' <=50K' ' <=50K' ' >50K' ' <=50K'\n",
      " ' <=50K']\n"
     ]
    }
   ],
   "source": [
    "# Check prediction\n",
    "\n",
    "y_pred = lr.predict(X_test[1:10])\n",
    "\n",
    "print(y_pred)"
   ]
  },
  {
   "cell_type": "code",
   "execution_count": 35,
   "metadata": {},
   "outputs": [
    {
     "data": {
      "text/plain": [
       "array([[4662,  283],\n",
       "       [ 566, 1002]], dtype=int64)"
      ]
     },
     "execution_count": 35,
     "metadata": {},
     "output_type": "execute_result"
    }
   ],
   "source": [
    "cm = confusion_matrix(y_test, y_pred)\n",
    "cm"
   ]
  },
  {
   "cell_type": "code",
   "execution_count": 77,
   "metadata": {},
   "outputs": [
    {
     "data": {
      "text/plain": [
       "Text(30.5, 0.5, 'Actual')"
      ]
     },
     "execution_count": 77,
     "metadata": {},
     "output_type": "execute_result"
    },
    {
     "data": {
      "image/png": "[encoded data removed]",
      "text/plain": [
       "<Figure size 432x288 with 2 Axes>"
      ]
     },
     "metadata": {},
     "output_type": "display_data"
    }
   ],
   "source": [
    "# Plot the confusion matrix\n",
    "\n",
    "seaborn.heatmap(cm, annot=True, fmt=\".2f\", cmap=plt.cm.Reds)\n",
    "plt.title('Logistic regression \\n Accuracy Score {0}'.format(score), fontsize=14)\n",
    "plt.xlabel(('Predicted'), fontsize=14)\n",
    "plt.ylabel(('Actual'), fontsize=14)"
   ]
  },
  {
   "cell_type": "markdown",
   "metadata": {},
   "source": [
    "### Cross Validation for Logistic Regression"
   ]
  },
  {
   "cell_type": "code",
   "execution_count": 52,
   "metadata": {},
   "outputs": [],
   "source": [
    "# from sklearn.model_selection import cross_validate\n",
    "\n",
    "from sklearn.model_selection import cross_validate"
   ]
  },
  {
   "cell_type": "code",
   "execution_count": 53,
   "metadata": {},
   "outputs": [],
   "source": [
    "# call cross-validate with return_train_score, return estimator, cv = 5"
   ]
  },
  {
   "cell_type": "code",
   "execution_count": 54,
   "metadata": {},
   "outputs": [],
   "source": [
    "estimator = LogisticRegression(penalty = 'none', max_iter = 10000)"
   ]
  },
  {
   "cell_type": "code",
   "execution_count": 55,
   "metadata": {},
   "outputs": [
    {
     "name": "stderr",
     "output_type": "stream",
     "text": [
      "[Parallel(n_jobs=1)]: Using backend SequentialBackend with 1 concurrent workers.\n"
     ]
    },
    {
     "name": "stdout",
     "output_type": "stream",
     "text": [
      "[CV]  ................................................................\n",
      "[CV] ................................................. , total=   3.7s\n",
      "[CV]  ................................................................\n"
     ]
    },
    {
     "name": "stderr",
     "output_type": "stream",
     "text": [
      "[Parallel(n_jobs=1)]: Done   1 out of   1 | elapsed:    3.7s remaining:    0.0s\n"
     ]
    },
    {
     "name": "stdout",
     "output_type": "stream",
     "text": [
      "[CV] ................................................. , total=   2.8s\n",
      "[CV]  ................................................................\n",
      "[CV] ................................................. , total=   2.8s\n",
      "[CV]  ................................................................\n",
      "[CV] ................................................. , total=   2.5s\n",
      "[CV]  ................................................................\n",
      "[CV] ................................................. , total=   3.7s\n"
     ]
    },
    {
     "name": "stderr",
     "output_type": "stream",
     "text": [
      "[Parallel(n_jobs=1)]: Done   5 out of   5 | elapsed:   15.6s finished\n"
     ]
    }
   ],
   "source": [
    "cv_fivefolds = cross_validate(estimator = estimator, \n",
    "                             X = X_train,\n",
    "                             y = y_train,\n",
    "                             cv = 5,\n",
    "                             return_estimator = True,\n",
    "                             return_train_score = True, verbose = 2)"
   ]
  },
  {
   "cell_type": "code",
   "execution_count": 56,
   "metadata": {},
   "outputs": [
    {
     "data": {
      "text/plain": [
       "array([0.87829926, 0.87733948, 0.87781937, 0.87782523, 0.87907289])"
      ]
     },
     "execution_count": 56,
     "metadata": {},
     "output_type": "execute_result"
    }
   ],
   "source": [
    "# investigate cv results \n",
    "\n",
    "cv_fivefolds['train_score']"
   ]
  },
  {
   "cell_type": "code",
   "execution_count": 57,
   "metadata": {},
   "outputs": [
    {
     "data": {
      "text/plain": [
       "array([0.87178503, 0.87332054, 0.87408829, 0.87195239, 0.86619313])"
      ]
     },
     "execution_count": 57,
     "metadata": {},
     "output_type": "execute_result"
    }
   ],
   "source": [
    "cv_fivefolds['test_score']"
   ]
  },
  {
   "cell_type": "code",
   "execution_count": 58,
   "metadata": {},
   "outputs": [],
   "source": [
    "# Find the mean and standard deviation for cv\n",
    "\n",
    "lrvalidation_mean = cv_fivefolds['test_score'].mean()\n",
    "lrvalidation_std = cv_fivefolds['test_score'].std()"
   ]
  },
  {
   "cell_type": "code",
   "execution_count": 59,
   "metadata": {},
   "outputs": [
    {
     "name": "stdout",
     "output_type": "stream",
     "text": [
      "Logistic Regression 5-fold cv results 0.871 =/- 0.003\n"
     ]
    }
   ],
   "source": [
    "print('Logistic Regression 5-fold cv results %.3f =/- %.3f'%(lrvalidation_mean, lrvalidation_std))"
   ]
  },
  {
   "cell_type": "markdown",
   "metadata": {},
   "source": [
    "## Decision Trees"
   ]
  },
  {
   "cell_type": "code",
   "execution_count": 50,
   "metadata": {},
   "outputs": [],
   "source": [
    "# from sklearn import Decision Tree classifier\n",
    "\n",
    "from sklearn.tree import DecisionTreeClassifier"
   ]
  },
  {
   "cell_type": "code",
   "execution_count": 51,
   "metadata": {},
   "outputs": [],
   "source": [
    "# instantiate\n",
    "\n",
    "dt_clf = DecisionTreeClassifier()"
   ]
  },
  {
   "cell_type": "code",
   "execution_count": 52,
   "metadata": {},
   "outputs": [
    {
     "data": {
      "text/plain": [
       "DecisionTreeClassifier()"
      ]
     },
     "execution_count": 52,
     "metadata": {},
     "output_type": "execute_result"
    }
   ],
   "source": [
    "# fit the model\n",
    "\n",
    "dt_clf.fit(X_train, y_train)"
   ]
  },
  {
   "cell_type": "code",
   "execution_count": 53,
   "metadata": {},
   "outputs": [
    {
     "data": {
      "text/plain": [
       "0.9785012285012284"
      ]
     },
     "execution_count": 53,
     "metadata": {},
     "output_type": "execute_result"
    }
   ],
   "source": [
    "# Score ## accuracy\n",
    "\n",
    "dt_clf.score(X_train, y_train)"
   ]
  },
  {
   "cell_type": "code",
   "execution_count": 54,
   "metadata": {},
   "outputs": [
    {
     "name": "stdout",
     "output_type": "stream",
     "text": [
      "0.8375556579149394\n"
     ]
    }
   ],
   "source": [
    "# If we check test score\n",
    "\n",
    "treescore = dt_clf.score(X_test, y_test)\n",
    "\n",
    "print(treescore)"
   ]
  },
  {
   "cell_type": "markdown",
   "metadata": {},
   "source": [
    "### Confusion Matrix for Decision Tree"
   ]
  },
  {
   "cell_type": "code",
   "execution_count": null,
   "metadata": {},
   "outputs": [],
   "source": [
    "# Create a confusion matrix"
   ]
  },
  {
   "cell_type": "code",
   "execution_count": 71,
   "metadata": {},
   "outputs": [],
   "source": [
    "y_pred_tree = dt_clf.predict(X_test)"
   ]
  },
  {
   "cell_type": "code",
   "execution_count": 72,
   "metadata": {},
   "outputs": [
    {
     "data": {
      "text/plain": [
       "array([[4486,  459],\n",
       "       [ 599,  969]], dtype=int64)"
      ]
     },
     "execution_count": 72,
     "metadata": {},
     "output_type": "execute_result"
    }
   ],
   "source": [
    "cm_tree = confusion_matrix(y_test, y_pred_tree)\n",
    "cm_tree"
   ]
  },
  {
   "cell_type": "code",
   "execution_count": 78,
   "metadata": {},
   "outputs": [
    {
     "data": {
      "text/plain": [
       "Text(30.5, 0.5, 'Actual')"
      ]
     },
     "execution_count": 78,
     "metadata": {},
     "output_type": "execute_result"
    },
    {
     "data": {
      "image/png": "[encoded data removed]",
      "text/plain": [
       "<Figure size 432x288 with 2 Axes>"
      ]
     },
     "metadata": {},
     "output_type": "display_data"
    }
   ],
   "source": [
    "# Plot the confusion matrix\n",
    "\n",
    "seaborn.heatmap(cm_tree, annot=True, fmt=\".2f\", cmap=plt.cm.copper)\n",
    "plt.title('Decision Tree \\n Accuracy Score {0}'.format(treescore), fontsize=14)\n",
    "plt.xlabel(('Predicted'), fontsize=14)\n",
    "plt.ylabel(('Actual'), fontsize=14)"
   ]
  },
  {
   "cell_type": "markdown",
   "metadata": {},
   "source": [
    "### Cross Validation of DecisionTrees"
   ]
  },
  {
   "cell_type": "code",
   "execution_count": 67,
   "metadata": {},
   "outputs": [],
   "source": [
    "# Cross Validate"
   ]
  },
  {
   "cell_type": "code",
   "execution_count": 68,
   "metadata": {},
   "outputs": [
    {
     "name": "stderr",
     "output_type": "stream",
     "text": [
      "[Parallel(n_jobs=1)]: Using backend SequentialBackend with 1 concurrent workers.\n"
     ]
    },
    {
     "name": "stdout",
     "output_type": "stream",
     "text": [
      "[CV]  ................................................................\n",
      "[CV] ................................................. , total=   1.5s\n",
      "[CV]  ................................................................\n"
     ]
    },
    {
     "name": "stderr",
     "output_type": "stream",
     "text": [
      "[Parallel(n_jobs=1)]: Done   1 out of   1 | elapsed:    1.5s remaining:    0.0s\n"
     ]
    },
    {
     "name": "stdout",
     "output_type": "stream",
     "text": [
      "[CV] ................................................. , total=   1.6s\n",
      "[CV]  ................................................................\n",
      "[CV] ................................................. , total=   1.7s\n",
      "[CV]  ................................................................\n",
      "[CV] ................................................. , total=   1.5s\n",
      "[CV]  ................................................................\n",
      "[CV] ................................................. , total=   1.7s\n"
     ]
    },
    {
     "name": "stderr",
     "output_type": "stream",
     "text": [
      "[Parallel(n_jobs=1)]: Done   5 out of   5 | elapsed:    8.3s finished\n"
     ]
    }
   ],
   "source": [
    "cv_fivefold = cross_validate(estimator = dt_clf,\n",
    "                            X = X_train,\n",
    "                            y = y_train,\n",
    "                            cv = 5,\n",
    "                            return_train_score = True,\n",
    "                            return_estimator = True,\n",
    "                            verbose = 2)"
   ]
  },
  {
   "cell_type": "code",
   "execution_count": 69,
   "metadata": {},
   "outputs": [
    {
     "data": {
      "text/plain": [
       "array([0.98176408, 0.98061234, 0.98066033, 0.98075723, 0.98099717])"
      ]
     },
     "execution_count": 69,
     "metadata": {},
     "output_type": "execute_result"
    }
   ],
   "source": [
    "# investigate cv results for Decision Tree\n",
    "\n",
    "cv_fivefold['train_score']"
   ]
  },
  {
   "cell_type": "code",
   "execution_count": 70,
   "metadata": {},
   "outputs": [
    {
     "data": {
      "text/plain": [
       "array([0.82610365, 0.82955854, 0.83454894, 0.83509311, 0.83605299])"
      ]
     },
     "execution_count": 70,
     "metadata": {},
     "output_type": "execute_result"
    }
   ],
   "source": [
    "cv_fivefold['test_score']"
   ]
  },
  {
   "cell_type": "code",
   "execution_count": 71,
   "metadata": {},
   "outputs": [],
   "source": [
    "# Find the mean and standard for cv\n",
    "\n",
    "dtvalidation_mean = cv_fivefold['test_score'].mean()\n",
    "dtvalidation_std = cv_fivefold['test_score'].std()"
   ]
  },
  {
   "cell_type": "code",
   "execution_count": 72,
   "metadata": {
    "scrolled": true
   },
   "outputs": [
    {
     "name": "stdout",
     "output_type": "stream",
     "text": [
      "Decision Tree 5-fold cv results 0.871 =/- 0.003\n"
     ]
    }
   ],
   "source": [
    "# Print results\n",
    "print('Decision Tree 5-fold cv results %.3f =/- %.3f'%(validation_mean, validation_std))"
   ]
  },
  {
   "cell_type": "markdown",
   "metadata": {},
   "source": [
    "### Evaluating Model Performance"
   ]
  },
  {
   "cell_type": "markdown",
   "metadata": {},
   "source": [
    "\n",
    "\n",
    "Which model performed best? We put the score from the 5-fold cross validate into a table to answer the question.\n"
   ]
  },
  {
   "cell_type": "code",
   "execution_count": 79,
   "metadata": {},
   "outputs": [
    {
     "data": {
      "text/html": [
       "<div>\n",
       "<style scoped>\n",
       "    .dataframe tbody tr th:only-of-type {\n",
       "        vertical-align: middle;\n",
       "    }\n",
       "\n",
       "    .dataframe tbody tr th {\n",
       "        vertical-align: top;\n",
       "    }\n",
       "\n",
       "    .dataframe thead th {\n",
       "        text-align: right;\n",
       "    }\n",
       "</style>\n",
       "<table border=\"1\" class=\"dataframe\">\n",
       "  <thead>\n",
       "    <tr style=\"text-align: right;\">\n",
       "      <th></th>\n",
       "      <th>Model</th>\n",
       "      <th>Validation Mean</th>\n",
       "      <th>Validation Standard deviation</th>\n",
       "    </tr>\n",
       "  </thead>\n",
       "  <tbody>\n",
       "    <tr>\n",
       "      <th>0</th>\n",
       "      <td>Logistic Regression</td>\n",
       "      <td>0.871468</td>\n",
       "      <td>0.002773</td>\n",
       "    </tr>\n",
       "    <tr>\n",
       "      <th>1</th>\n",
       "      <td>Decision Tree</td>\n",
       "      <td>0.832271</td>\n",
       "      <td>0.003817</td>\n",
       "    </tr>\n",
       "  </tbody>\n",
       "</table>\n",
       "</div>"
      ],
      "text/plain": [
       "                 Model  Validation Mean  Validation Standard deviation\n",
       "0  Logistic Regression         0.871468                       0.002773\n",
       "1        Decision Tree         0.832271                       0.003817"
      ]
     },
     "execution_count": 79,
     "metadata": {},
     "output_type": "execute_result"
    }
   ],
   "source": [
    "model_performance = pd.DataFrame({\n",
    "    \"Model\":[\"Logistic Regression\",\"Decision Tree\"],\n",
    "    \"Validation Mean\":[lrvalidation_mean, dtvalidation_mean],\n",
    "    \"Validation Standard deviation\":[lrvalidation_std, dtvalidation_std]\n",
    "    \n",
    "})\n",
    "\n",
    "model_performance.sort_values(by = \"Validation Mean\", ascending = False)"
   ]
  },
  {
   "cell_type": "markdown",
   "metadata": {},
   "source": [
    "# Conclusion"
   ]
  },
  {
   "cell_type": "markdown",
   "metadata": {},
   "source": [
    "### Goal\n",
    "\n",
    "\n",
    "Our goal was to train a classification model that performs better than 0.75 accuracy. We were able to achieve this goal for both the Logistic Regression and Decision Tree. Using the cross-validation the Logistic regression had a mean validation test score of 0.87 and the Decision Tree has a validation test score mean of 0.83.\n",
    "\n",
    "Using the confusion matrix, the Logistic regression was able to predict correctly 5664 of 6513 of the test data. The Decision tree on the other hand predicted 5475 of the 6513 of the test data. Therefore, the Logistic Regression predict more correctly.\n",
    "\n",
    "### Research question\n",
    "\n",
    "- Which model has the best accuracy score?\n",
    "\n",
    "On the training data the Logistic Regression had an accuracy score of 0.877, while the Decision Tree had a score of 0.978. However on the test score, using the cross-validation table, the Logistic Regression had a train score of about 0.871 with a standard deviation of +/- 0.002. On the other hand, Decision Tree had a test score of 0.832 on the cross-validation with a standard deviation of +/- 0.003. Therefore, the Logistic Regression model performed better. \n",
    "\n",
    "- What are some of the ways we can reduce bias?\n",
    "\n",
    "To reduce bias in our model we used the one-hot encoding method instead of the label encoding. Label encoding gives the categories an integer value, so if there are 4 categories it assigns a number 1, 2, 3, or 4 to the categories, however this can create bias because the machine recognizes 4 as greater than 1 which not the case in categorical data. The onehot encoder assigns a different identifier using 0s and 1s, for each category in a feature and is not hierarchial.\n",
    "\n",
    "- How do we test our model?\n",
    "\n",
    "To test our model, we divided our data set into training and test data. We used used the training dataset to train our model, then we used the test dataset to test our model."
   ]
  },
  {
   "cell_type": "markdown",
   "metadata": {},
   "source": [
    "## Limitations\n",
    "\n",
    "This project only tested two classifier models. \n",
    "There are other classifier models that could probably have had a better score."
   ]
  },
  {
   "cell_type": "markdown",
   "metadata": {},
   "source": [
    "## References"
   ]
  },
  {
   "cell_type": "markdown",
   "metadata": {},
   "source": [
    "- Gareth J, et.al, An Introduction to Statistical Learning with Application in R, Springer, 8th edition 2017\n",
    "\n",
    "- [Kaggle](https://www.kaggle.com/samsonqian/titanic-guide-with-sklearn-and-eda)\n",
    "\n",
    "- [pydata](https://pandas.pydata.org/pandas-docs/stable/reference/api/pandas.DataFrame.drop.html)\n",
    "\n",
    "- [PyData](https://www.youtube.com/watch?v=ioXKxulmwVQ)\n",
    "\n",
    "- [sklearn](https://scikit-learn.org/stable/modules/generated/sklearn.preprocessing.OneHotEncoder.html?highlight=onehot%20encoding)\n",
    "\n",
    "- Ronny Kohavi and Barry Becker, 1996. [UCI Machine Learning Repository](https://archive.ics.uci.edu/ml/datasets/Census+Income)\n",
    "Data Mining and Visualization\n",
    "Silicon Graphics.\n",
    "\n",
    "- [adult data](https://www.youtube.com/watch?v=RdggP4yuIHY)\n",
    "\n",
    "- [Confusion matrix](https://www.youtube.com/watch?v=87Zebzxzh-A)\n",
    "\n",
    "- [Stackoverflow](https://stackoverflow.com/questions/31797013/how-to-open-a-data-file-extension)"
   ]
  }
 ],
 "metadata": {
  "kernelspec": {
   "display_name": "Python 3",
   "language": "python",
   "name": "python3"
  },
  "language_info": {
   "codemirror_mode": {
    "name": "ipython",
    "version": 3
   },
   "file_extension": ".py",
   "mimetype": "text/x-python",
   "name": "python",
   "nbconvert_exporter": "python",
   "pygments_lexer": "ipython3",
   "version": "3.8.3"
  }
 },
 "nbformat": 4,
 "nbformat_minor": 4
}
